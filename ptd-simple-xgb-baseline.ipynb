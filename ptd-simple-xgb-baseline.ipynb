{
 "cells": [
  {
   "cell_type": "code",
   "execution_count": 1,
   "id": "a7899acc",
   "metadata": {
    "_cell_guid": "b1076dfc-b9ad-4769-8c92-a6c4dae69d19",
    "_uuid": "8f2839f25d086af736a60e9eeb907d3b93b6e0e5",
    "execution": {
     "iopub.execute_input": "2024-07-15T08:19:55.000555Z",
     "iopub.status.busy": "2024-07-15T08:19:55.000163Z",
     "iopub.status.idle": "2024-07-15T08:19:56.754238Z",
     "shell.execute_reply": "2024-07-15T08:19:56.753422Z"
    },
    "papermill": {
     "duration": 1.763381,
     "end_time": "2024-07-15T08:19:56.757010",
     "exception": false,
     "start_time": "2024-07-15T08:19:54.993629",
     "status": "completed"
    },
    "tags": []
   },
   "outputs": [],
   "source": [
    "import os\n",
    "import torch\n",
    "\n",
    "class Config:\n",
    "    AUTHOR = \"colum2131\"\n",
    "\n",
    "    NAME = \"NFLC-\" + \"Exp001-simple-xgb-baseline\"\n",
    "\n",
    "    COMPETITION = \"nfl-player-contact-detection\"\n",
    "\n",
    "    seed = 42\n",
    "    num_fold = 5\n",
    "    \n",
    "    xgb_params = {\n",
    "        'objective': 'binary:logistic',\n",
    "        'eval_metric': 'auc',\n",
    "        'learning_rate':0.03,\n",
    "        'tree_method':'hist' if not torch.cuda.is_available() else 'gpu_hist'\n",
    "    }"
   ]
  },
  {
   "cell_type": "code",
   "execution_count": 2,
   "id": "d3a819fa",
   "metadata": {
    "execution": {
     "iopub.execute_input": "2024-07-15T08:19:56.769273Z",
     "iopub.status.busy": "2024-07-15T08:19:56.768850Z",
     "iopub.status.idle": "2024-07-15T08:20:00.663202Z",
     "shell.execute_reply": "2024-07-15T08:20:00.662141Z"
    },
    "papermill": {
     "duration": 3.902873,
     "end_time": "2024-07-15T08:20:00.665635",
     "exception": false,
     "start_time": "2024-07-15T08:19:56.762762",
     "status": "completed"
    },
    "tags": []
   },
   "outputs": [],
   "source": [
    "import os\n",
    "import gc\n",
    "import subprocess\n",
    "\n",
    "import numpy as np\n",
    "import pandas as pd\n",
    "import matplotlib.pyplot as plt\n",
    "import matplotlib.patches as patches\n",
    "from IPython.display import Video, display\n",
    "\n",
    "from scipy.optimize import minimize\n",
    "import cv2\n",
    "from glob import glob\n",
    "from tqdm import tqdm\n",
    "\n",
    "from sklearn.model_selection import GroupKFold\n",
    "from sklearn.metrics import (\n",
    "    roc_auc_score,\n",
    "    matthews_corrcoef,\n",
    ")\n",
    "\n",
    "import xgboost as xgb\n",
    "\n",
    "import torch\n",
    "\n",
    "if torch.cuda.is_available():\n",
    "    import cupy \n",
    "    import cudf\n",
    "    from cuml import ForestInference"
   ]
  },
  {
   "cell_type": "code",
   "execution_count": 3,
   "id": "28a09600",
   "metadata": {
    "execution": {
     "iopub.execute_input": "2024-07-15T08:20:00.677790Z",
     "iopub.status.busy": "2024-07-15T08:20:00.677437Z",
     "iopub.status.idle": "2024-07-15T08:20:00.685122Z",
     "shell.execute_reply": "2024-07-15T08:20:00.684187Z"
    },
    "papermill": {
     "duration": 0.015857,
     "end_time": "2024-07-15T08:20:00.687054",
     "exception": false,
     "start_time": "2024-07-15T08:20:00.671197",
     "status": "completed"
    },
    "tags": []
   },
   "outputs": [],
   "source": [
    "def setup(cfg):\n",
    "    cfg.device = torch.device('cuda' if torch.cuda.is_available() else 'cpu')\n",
    "    \n",
    "    # set dirs\n",
    "    cfg.INPUT = f'../input/{cfg.COMPETITION}'\n",
    "    cfg.EXP = cfg.NAME\n",
    "    cfg.OUTPUT_EXP = cfg.NAME\n",
    "    cfg.SUBMISSION = './'\n",
    "    cfg.DATASET = '../input/'\n",
    "\n",
    "    cfg.EXP_MODEL = os.path.join(cfg.EXP, 'model')\n",
    "    cfg.EXP_FIG = os.path.join(cfg.EXP, 'fig')\n",
    "    cfg.EXP_PREDS = os.path.join(cfg.EXP, 'preds')\n",
    "\n",
    "    # make dirs\n",
    "    for d in [cfg.EXP_MODEL, cfg.EXP_FIG, cfg.EXP_PREDS]:\n",
    "        os.makedirs(d, exist_ok=True)\n",
    "        \n",
    "    return cfg"
   ]
  },
  {
   "cell_type": "code",
   "execution_count": 4,
   "id": "a0fadccf",
   "metadata": {
    "execution": {
     "iopub.execute_input": "2024-07-15T08:20:00.698502Z",
     "iopub.status.busy": "2024-07-15T08:20:00.698222Z",
     "iopub.status.idle": "2024-07-15T08:20:00.723131Z",
     "shell.execute_reply": "2024-07-15T08:20:00.722488Z"
    },
    "papermill": {
     "duration": 0.032969,
     "end_time": "2024-07-15T08:20:00.725100",
     "exception": false,
     "start_time": "2024-07-15T08:20:00.692131",
     "status": "completed"
    },
    "tags": []
   },
   "outputs": [],
   "source": [
    "# ==============================\n",
    "# function\n",
    "# ==============================\n",
    "# ref: https://www.kaggle.com/code/robikscube/nfl-player-contact-detection-getting-started\n",
    "def add_contact_id(df):\n",
    "    # Create contact ids\n",
    "    df[\"contact_id\"] = (\n",
    "        df[\"game_play\"]\n",
    "        + \"_\"\n",
    "        + df[\"step\"].astype(\"str\")\n",
    "        + \"_\"\n",
    "        + df[\"nfl_player_id_1\"].astype(\"str\")\n",
    "        + \"_\"\n",
    "        + df[\"nfl_player_id_2\"].astype(\"str\")\n",
    "    )\n",
    "    return df\n",
    "\n",
    "def expand_contact_id(df):\n",
    "    \"\"\"\n",
    "    Splits out contact_id into seperate columns.\n",
    "    \"\"\"\n",
    "    df[\"game_play\"] = df[\"contact_id\"].str[:12]\n",
    "    df[\"step\"] = df[\"contact_id\"].str.split(\"_\").str[-3].astype(\"int\")\n",
    "    df[\"nfl_player_id_1\"] = df[\"contact_id\"].str.split(\"_\").str[-2]\n",
    "    df[\"nfl_player_id_2\"] = df[\"contact_id\"].str.split(\"_\").str[-1]\n",
    "    return df\n",
    "\n",
    "# cross validation\n",
    "def get_groupkfold(train, target_col, group_col, n_splits):\n",
    "    kf = GroupKFold(n_splits=n_splits)\n",
    "    generator = kf.split(train, train[target_col], train[group_col])\n",
    "    # split the train into n_splits group, the same group_col is not present in both the training and test sets.\n",
    "    # the target_col has no use \n",
    "    # which means that the same match will not in both train and valid\n",
    "    # read the below result to understand:\n",
    "    # TRAIN: [0 1 4] TEST: [2 3]\n",
    "    # TRAIN: [2 3 4] TEST: [0 1]\n",
    "    # TRAIN: [0 1 2 3] TEST: [4]\n",
    "    # note that the TEST is not overlap it self, so it can be used to split the test into k folds\n",
    "    fold_series = []\n",
    "    for fold, (idx_train, idx_valid) in enumerate(generator):\n",
    "        fold_series.append(pd.Series(fold, index=idx_valid))\n",
    "        # if we have k folds, the [] will append k times, each time the value will be fold_id\n",
    "    fold_series = pd.concat(fold_series).sort_index()\n",
    "    return fold_series\n",
    "\n",
    "# xgboost code\n",
    "def fit_xgboost(cfg, X, y, params, add_suffix=''):\n",
    "    \"\"\"\n",
    "    xgb_params = {\n",
    "        'objective': 'binary:logistic',\n",
    "        'eval_metric': 'auc',\n",
    "        'learning_rate':0.03,\n",
    "        'tree_method':'hist' if not torch.cuda.is_available() else 'gpu_hist'\n",
    "    }\n",
    "    \"\"\"\n",
    "    oof_pred = np.zeros(len(y), dtype=np.float32) # oof stands for out-of-fold\n",
    "    for fold in sorted(cfg.folds.unique()): # get all the fold from cfg.folds\n",
    "        if fold == -1: continue # skip the fold -1, which seem to be an error \n",
    "        idx_train = (cfg.folds!=fold) \n",
    "        idx_valid = (cfg.folds==fold) \n",
    "        x_train, y_train = X[idx_train], y[idx_train]\n",
    "        x_valid, y_valid = X[idx_valid], y[idx_valid]\n",
    "        display(pd.Series(y_valid).value_counts()) # display value_counts in y_valid to see the distribution\n",
    "\n",
    "        xgb_train = xgb.DMatrix(x_train, label=y_train)  #convert to DMatrix, used in xgb\n",
    "        xgb_valid = xgb.DMatrix(x_valid, label=y_valid)  #convert to DMatrix, used in xgb\n",
    "        evals = [(xgb_train,'train'),(xgb_valid,'eval')] \n",
    "\n",
    "        model = xgb.train(\n",
    "            params,\n",
    "            xgb_train,\n",
    "            num_boost_round=10_000, #max number of tree\n",
    "            early_stopping_rounds=100, #patience of early stopping will be 100\n",
    "            evals=evals, # valid set for early stopping\n",
    "            verbose_eval=100, # print eval for 100 steps\n",
    "        )\n",
    "\n",
    "        model_path = os.path.join(cfg.EXP_MODEL, f'xgb_fold{fold}{add_suffix}.model')\n",
    "        model.save_model(model_path) #save model\n",
    "        if not torch.cuda.is_available():\n",
    "            model = xgb.Booster().load_model(model_path)\n",
    "        else:\n",
    "            model = ForestInference.load(model_path, output_class=True, model_type='xgboost')\n",
    "        #load model \n",
    "        pred_i = model.predict_proba(x_valid)[:, 1] # get [:,1] because the objective function is binary logistic, which return 2 cols (false and true) \n",
    "        oof_pred[x_valid.index] = pred_i\n",
    "        score = round(roc_auc_score(y_valid, pred_i), 5) #calculate roc_auc_score \n",
    "        print(f'Performance of the prediction: {score}\\n') #print\n",
    "        del model; gc.collect()\n",
    "\n",
    "    np.save(os.path.join(cfg.EXP_PREDS, f'oof_pred{add_suffix}'), oof_pred)\n",
    "    score = round(roc_auc_score(y, oof_pred), 5)\n",
    "    print(f'All Performance of the prediction: {score}')\n",
    "    return oof_pred\n",
    "\n",
    "def pred_xgboost(X, data_dir, add_suffix=''):\n",
    "    models = glob(os.path.join(data_dir, f'xgb_fold*{add_suffix}.model'))\n",
    "    if not torch.cuda.is_available():\n",
    "         models = [xgb.Booster().load_model(model_path) for model in models]\n",
    "    else:\n",
    "        models = [ForestInference.load(model, output_class=True, model_type='xgboost') for model in models]\n",
    "    preds = np.array([model.predict_proba(X)[:, 1] for model in models]) #shape: MxN\n",
    "    preds = np.mean(preds, axis=0) # shape N, calculate the means of all model\n",
    "    return preds"
   ]
  },
  {
   "cell_type": "code",
   "execution_count": 5,
   "id": "2a029ebe",
   "metadata": {
    "execution": {
     "iopub.execute_input": "2024-07-15T08:20:00.736784Z",
     "iopub.status.busy": "2024-07-15T08:20:00.736489Z",
     "iopub.status.idle": "2024-07-15T08:20:13.716370Z",
     "shell.execute_reply": "2024-07-15T08:20:13.715559Z"
    },
    "papermill": {
     "duration": 12.988698,
     "end_time": "2024-07-15T08:20:13.718957",
     "exception": false,
     "start_time": "2024-07-15T08:20:00.730259",
     "status": "completed"
    },
    "tags": []
   },
   "outputs": [],
   "source": [
    "# ==============================\n",
    "# read data\n",
    "# ==============================\n",
    "cfg = setup(Config)\n",
    "\n",
    "if not torch.cuda.is_available():\n",
    "    tr_tracking = pd.read_csv(os.path.join(cfg.INPUT, 'train_player_tracking.csv'), parse_dates=[\"datetime\"])\n",
    "    te_tracking = pd.read_csv(os.path.join(cfg.INPUT, 'test_player_tracking.csv'), parse_dates=[\"datetime\"])\n",
    "    # tr_helmets = pd.read_csv(os.path.join(cfg.INPUT, 'train_baseline_helmets.csv'))\n",
    "    # te_helmets = pd.read_csv(os.path.join(cfg.INPUT, 'test_baseline_helmets.csv'))\n",
    "    # tr_video_metadata = pd.read_csv(os.path.join(cfg.INPUT, 'train_video_metadata.csv'))\n",
    "    # te_video_metadata = pd.read_csv(os.path.join(cfg.INPUT, 'test_video_metadata.csv'))\n",
    "    sub = pd.read_csv(os.path.join(cfg.INPUT, 'sample_submission.csv'))\n",
    "\n",
    "    train = pd.read_csv(os.path.join(cfg.INPUT, 'train_labels.csv'), parse_dates=[\"datetime\"])\n",
    "    test = expand_contact_id(sub)\n",
    "    \n",
    "else:\n",
    "    tr_tracking = cudf.read_csv(os.path.join(cfg.INPUT, 'train_player_tracking.csv'), parse_dates=[\"datetime\"])\n",
    "    te_tracking = cudf.read_csv(os.path.join(cfg.INPUT, 'test_player_tracking.csv'), parse_dates=[\"datetime\"])\n",
    "    # tr_helmets = cudf.read_csv(os.path.join(cfg.INPUT, 'train_baseline_helmets.csv'))\n",
    "    # te_helmets = cudf.read_csv(os.path.join(cfg.INPUT, 'test_baseline_helmets.csv'))\n",
    "    # tr_video_metadata = cudf.read_csv(os.path.join(cfg.INPUT, 'train_video_metadata.csv'))\n",
    "    # te_video_metadata = cudf.read_csv(os.path.join(cfg.INPUT, 'test_video_metadata.csv'))\n",
    "    sub = pd.read_csv(os.path.join(cfg.INPUT, 'sample_submission.csv'))\n",
    "\n",
    "    train = cudf.read_csv(os.path.join(cfg.INPUT, 'train_labels.csv'), parse_dates=[\"datetime\"])\n",
    "    test = cudf.DataFrame(expand_contact_id(sub)) #add new column based on the contact_id"
   ]
  },
  {
   "cell_type": "code",
   "execution_count": 6,
   "id": "76e1e2d2",
   "metadata": {
    "execution": {
     "iopub.execute_input": "2024-07-15T08:20:13.731555Z",
     "iopub.status.busy": "2024-07-15T08:20:13.731195Z",
     "iopub.status.idle": "2024-07-15T08:20:13.769533Z",
     "shell.execute_reply": "2024-07-15T08:20:13.768650Z"
    },
    "papermill": {
     "duration": 0.047185,
     "end_time": "2024-07-15T08:20:13.771957",
     "exception": false,
     "start_time": "2024-07-15T08:20:13.724772",
     "status": "completed"
    },
    "tags": []
   },
   "outputs": [
    {
     "data": {
      "text/plain": [
       "0    49588\n",
       "Name: contact, dtype: int32"
      ]
     },
     "execution_count": 6,
     "metadata": {},
     "output_type": "execute_result"
    }
   ],
   "source": [
    "test.contact.value_counts()"
   ]
  },
  {
   "cell_type": "markdown",
   "id": "aabdede4",
   "metadata": {
    "papermill": {
     "duration": 0.005222,
     "end_time": "2024-07-15T08:20:13.782597",
     "exception": false,
     "start_time": "2024-07-15T08:20:13.777375",
     "status": "completed"
    },
    "tags": []
   },
   "source": [
    "CUDF: : CUDF leverages NVIDIA GPUs to perform data operations much faster than traditional CPU-based libraries like pandas."
   ]
  },
  {
   "cell_type": "markdown",
   "id": "c190d29c",
   "metadata": {
    "papermill": {
     "duration": 0.005149,
     "end_time": "2024-07-15T08:20:13.793068",
     "exception": false,
     "start_time": "2024-07-15T08:20:13.787919",
     "status": "completed"
    },
    "tags": []
   },
   "source": [
    "The following code is used to create the features.  \n",
    "Basically, the numerical features contained in player_tracking.csv are merged into player_id_1 and player_id_2 respectively."
   ]
  },
  {
   "cell_type": "code",
   "execution_count": 7,
   "id": "37aaed1e",
   "metadata": {
    "execution": {
     "iopub.execute_input": "2024-07-15T08:20:13.805034Z",
     "iopub.status.busy": "2024-07-15T08:20:13.804739Z",
     "iopub.status.idle": "2024-07-15T08:20:21.656419Z",
     "shell.execute_reply": "2024-07-15T08:20:21.655345Z"
    },
    "papermill": {
     "duration": 7.860908,
     "end_time": "2024-07-15T08:20:21.659472",
     "exception": false,
     "start_time": "2024-07-15T08:20:13.798564",
     "status": "completed"
    },
    "tags": []
   },
   "outputs": [
    {
     "data": {
      "text/html": [
       "<div>\n",
       "<style scoped>\n",
       "    .dataframe tbody tr th:only-of-type {\n",
       "        vertical-align: middle;\n",
       "    }\n",
       "\n",
       "    .dataframe tbody tr th {\n",
       "        vertical-align: top;\n",
       "    }\n",
       "\n",
       "    .dataframe thead th {\n",
       "        text-align: right;\n",
       "    }\n",
       "</style>\n",
       "<table border=\"1\" class=\"dataframe\">\n",
       "  <thead>\n",
       "    <tr style=\"text-align: right;\">\n",
       "      <th></th>\n",
       "      <th>contact_id</th>\n",
       "      <th>game_play</th>\n",
       "      <th>datetime</th>\n",
       "      <th>step</th>\n",
       "      <th>nfl_player_id_1</th>\n",
       "      <th>nfl_player_id_2</th>\n",
       "      <th>contact</th>\n",
       "      <th>x_position_1</th>\n",
       "      <th>y_position_1</th>\n",
       "      <th>speed_1</th>\n",
       "      <th>...</th>\n",
       "      <th>x_position_2</th>\n",
       "      <th>y_position_2</th>\n",
       "      <th>speed_2</th>\n",
       "      <th>distance_2</th>\n",
       "      <th>direction_2</th>\n",
       "      <th>orientation_2</th>\n",
       "      <th>acceleration_2</th>\n",
       "      <th>sa_2</th>\n",
       "      <th>distance</th>\n",
       "      <th>G_flug</th>\n",
       "    </tr>\n",
       "  </thead>\n",
       "  <tbody>\n",
       "    <tr>\n",
       "      <th>0</th>\n",
       "      <td>58168_003392_0_37084_37211</td>\n",
       "      <td>58168_003392</td>\n",
       "      <td>2020-09-11 03:01:48.100</td>\n",
       "      <td>0</td>\n",
       "      <td>37084</td>\n",
       "      <td>37211</td>\n",
       "      <td>0</td>\n",
       "      <td>41.90</td>\n",
       "      <td>20.08</td>\n",
       "      <td>0.54</td>\n",
       "      <td>...</td>\n",
       "      <td>39.59</td>\n",
       "      <td>17.07</td>\n",
       "      <td>0.53</td>\n",
       "      <td>0.05</td>\n",
       "      <td>134.84</td>\n",
       "      <td>84.73</td>\n",
       "      <td>1.43</td>\n",
       "      <td>1.42</td>\n",
       "      <td>3.794232</td>\n",
       "      <td>False</td>\n",
       "    </tr>\n",
       "    <tr>\n",
       "      <th>1</th>\n",
       "      <td>58168_003392_0_37084_38556</td>\n",
       "      <td>58168_003392</td>\n",
       "      <td>2020-09-11 03:01:48.100</td>\n",
       "      <td>0</td>\n",
       "      <td>37084</td>\n",
       "      <td>38556</td>\n",
       "      <td>0</td>\n",
       "      <td>41.90</td>\n",
       "      <td>20.08</td>\n",
       "      <td>0.54</td>\n",
       "      <td>...</td>\n",
       "      <td>41.93</td>\n",
       "      <td>30.61</td>\n",
       "      <td>0.67</td>\n",
       "      <td>0.05</td>\n",
       "      <td>232.50</td>\n",
       "      <td>227.00</td>\n",
       "      <td>1.82</td>\n",
       "      <td>1.61</td>\n",
       "      <td>10.530043</td>\n",
       "      <td>False</td>\n",
       "    </tr>\n",
       "    <tr>\n",
       "      <th>2</th>\n",
       "      <td>58168_003392_0_37084_38567</td>\n",
       "      <td>58168_003392</td>\n",
       "      <td>2020-09-11 03:01:48.100</td>\n",
       "      <td>0</td>\n",
       "      <td>37084</td>\n",
       "      <td>38567</td>\n",
       "      <td>0</td>\n",
       "      <td>41.90</td>\n",
       "      <td>20.08</td>\n",
       "      <td>0.54</td>\n",
       "      <td>...</td>\n",
       "      <td>40.37</td>\n",
       "      <td>19.88</td>\n",
       "      <td>0.66</td>\n",
       "      <td>0.07</td>\n",
       "      <td>136.70</td>\n",
       "      <td>88.92</td>\n",
       "      <td>0.90</td>\n",
       "      <td>0.89</td>\n",
       "      <td>1.543017</td>\n",
       "      <td>False</td>\n",
       "    </tr>\n",
       "    <tr>\n",
       "      <th>3</th>\n",
       "      <td>58168_003392_0_37084_38590</td>\n",
       "      <td>58168_003392</td>\n",
       "      <td>2020-09-11 03:01:48.100</td>\n",
       "      <td>0</td>\n",
       "      <td>37084</td>\n",
       "      <td>38590</td>\n",
       "      <td>0</td>\n",
       "      <td>41.90</td>\n",
       "      <td>20.08</td>\n",
       "      <td>0.54</td>\n",
       "      <td>...</td>\n",
       "      <td>40.33</td>\n",
       "      <td>25.28</td>\n",
       "      <td>0.52</td>\n",
       "      <td>0.06</td>\n",
       "      <td>141.08</td>\n",
       "      <td>100.37</td>\n",
       "      <td>0.59</td>\n",
       "      <td>0.58</td>\n",
       "      <td>5.431841</td>\n",
       "      <td>False</td>\n",
       "    </tr>\n",
       "    <tr>\n",
       "      <th>4</th>\n",
       "      <td>58168_003392_0_37084_39947</td>\n",
       "      <td>58168_003392</td>\n",
       "      <td>2020-09-11 03:01:48.100</td>\n",
       "      <td>0</td>\n",
       "      <td>37084</td>\n",
       "      <td>39947</td>\n",
       "      <td>0</td>\n",
       "      <td>41.90</td>\n",
       "      <td>20.08</td>\n",
       "      <td>0.54</td>\n",
       "      <td>...</td>\n",
       "      <td>40.11</td>\n",
       "      <td>26.73</td>\n",
       "      <td>0.99</td>\n",
       "      <td>0.09</td>\n",
       "      <td>163.38</td>\n",
       "      <td>90.69</td>\n",
       "      <td>1.68</td>\n",
       "      <td>1.64</td>\n",
       "      <td>6.886697</td>\n",
       "      <td>False</td>\n",
       "    </tr>\n",
       "    <tr>\n",
       "      <th>...</th>\n",
       "      <td>...</td>\n",
       "      <td>...</td>\n",
       "      <td>...</td>\n",
       "      <td>...</td>\n",
       "      <td>...</td>\n",
       "      <td>...</td>\n",
       "      <td>...</td>\n",
       "      <td>...</td>\n",
       "      <td>...</td>\n",
       "      <td>...</td>\n",
       "      <td>...</td>\n",
       "      <td>...</td>\n",
       "      <td>...</td>\n",
       "      <td>...</td>\n",
       "      <td>...</td>\n",
       "      <td>...</td>\n",
       "      <td>...</td>\n",
       "      <td>...</td>\n",
       "      <td>...</td>\n",
       "      <td>...</td>\n",
       "      <td>...</td>\n",
       "    </tr>\n",
       "    <tr>\n",
       "      <th>4721613</th>\n",
       "      <td>58582_003121_91_52500_52619</td>\n",
       "      <td>58582_003121</td>\n",
       "      <td>2021-10-12 02:42:29.100</td>\n",
       "      <td>91</td>\n",
       "      <td>52500</td>\n",
       "      <td>52619</td>\n",
       "      <td>0</td>\n",
       "      <td>58.74</td>\n",
       "      <td>40.11</td>\n",
       "      <td>1.34</td>\n",
       "      <td>...</td>\n",
       "      <td>58.90</td>\n",
       "      <td>22.09</td>\n",
       "      <td>1.32</td>\n",
       "      <td>0.14</td>\n",
       "      <td>74.21</td>\n",
       "      <td>47.63</td>\n",
       "      <td>0.96</td>\n",
       "      <td>-0.44</td>\n",
       "      <td>18.020710</td>\n",
       "      <td>False</td>\n",
       "    </tr>\n",
       "    <tr>\n",
       "      <th>4721614</th>\n",
       "      <td>58582_003121_91_52500_G</td>\n",
       "      <td>58582_003121</td>\n",
       "      <td>2021-10-12 02:42:29.100</td>\n",
       "      <td>91</td>\n",
       "      <td>52500</td>\n",
       "      <td>G</td>\n",
       "      <td>0</td>\n",
       "      <td>58.74</td>\n",
       "      <td>40.11</td>\n",
       "      <td>1.34</td>\n",
       "      <td>...</td>\n",
       "      <td>NaN</td>\n",
       "      <td>NaN</td>\n",
       "      <td>NaN</td>\n",
       "      <td>NaN</td>\n",
       "      <td>NaN</td>\n",
       "      <td>NaN</td>\n",
       "      <td>NaN</td>\n",
       "      <td>NaN</td>\n",
       "      <td>NaN</td>\n",
       "      <td>True</td>\n",
       "    </tr>\n",
       "    <tr>\n",
       "      <th>4721615</th>\n",
       "      <td>58582_003121_91_52609_52619</td>\n",
       "      <td>58582_003121</td>\n",
       "      <td>2021-10-12 02:42:29.100</td>\n",
       "      <td>91</td>\n",
       "      <td>52609</td>\n",
       "      <td>52619</td>\n",
       "      <td>0</td>\n",
       "      <td>60.32</td>\n",
       "      <td>25.93</td>\n",
       "      <td>1.38</td>\n",
       "      <td>...</td>\n",
       "      <td>58.90</td>\n",
       "      <td>22.09</td>\n",
       "      <td>1.32</td>\n",
       "      <td>0.14</td>\n",
       "      <td>74.21</td>\n",
       "      <td>47.63</td>\n",
       "      <td>0.96</td>\n",
       "      <td>-0.44</td>\n",
       "      <td>4.094142</td>\n",
       "      <td>False</td>\n",
       "    </tr>\n",
       "    <tr>\n",
       "      <th>4721616</th>\n",
       "      <td>58582_003121_91_52609_G</td>\n",
       "      <td>58582_003121</td>\n",
       "      <td>2021-10-12 02:42:29.100</td>\n",
       "      <td>91</td>\n",
       "      <td>52609</td>\n",
       "      <td>G</td>\n",
       "      <td>0</td>\n",
       "      <td>60.32</td>\n",
       "      <td>25.93</td>\n",
       "      <td>1.38</td>\n",
       "      <td>...</td>\n",
       "      <td>NaN</td>\n",
       "      <td>NaN</td>\n",
       "      <td>NaN</td>\n",
       "      <td>NaN</td>\n",
       "      <td>NaN</td>\n",
       "      <td>NaN</td>\n",
       "      <td>NaN</td>\n",
       "      <td>NaN</td>\n",
       "      <td>NaN</td>\n",
       "      <td>True</td>\n",
       "    </tr>\n",
       "    <tr>\n",
       "      <th>4721617</th>\n",
       "      <td>58582_003121_91_52619_G</td>\n",
       "      <td>58582_003121</td>\n",
       "      <td>2021-10-12 02:42:29.100</td>\n",
       "      <td>91</td>\n",
       "      <td>52619</td>\n",
       "      <td>G</td>\n",
       "      <td>0</td>\n",
       "      <td>58.90</td>\n",
       "      <td>22.09</td>\n",
       "      <td>1.32</td>\n",
       "      <td>...</td>\n",
       "      <td>NaN</td>\n",
       "      <td>NaN</td>\n",
       "      <td>NaN</td>\n",
       "      <td>NaN</td>\n",
       "      <td>NaN</td>\n",
       "      <td>NaN</td>\n",
       "      <td>NaN</td>\n",
       "      <td>NaN</td>\n",
       "      <td>NaN</td>\n",
       "      <td>True</td>\n",
       "    </tr>\n",
       "  </tbody>\n",
       "</table>\n",
       "<p>4721618 rows × 25 columns</p>\n",
       "</div>"
      ],
      "text/plain": [
       "                          contact_id     game_play                datetime  \\\n",
       "0         58168_003392_0_37084_37211  58168_003392 2020-09-11 03:01:48.100   \n",
       "1         58168_003392_0_37084_38556  58168_003392 2020-09-11 03:01:48.100   \n",
       "2         58168_003392_0_37084_38567  58168_003392 2020-09-11 03:01:48.100   \n",
       "3         58168_003392_0_37084_38590  58168_003392 2020-09-11 03:01:48.100   \n",
       "4         58168_003392_0_37084_39947  58168_003392 2020-09-11 03:01:48.100   \n",
       "...                              ...           ...                     ...   \n",
       "4721613  58582_003121_91_52500_52619  58582_003121 2021-10-12 02:42:29.100   \n",
       "4721614      58582_003121_91_52500_G  58582_003121 2021-10-12 02:42:29.100   \n",
       "4721615  58582_003121_91_52609_52619  58582_003121 2021-10-12 02:42:29.100   \n",
       "4721616      58582_003121_91_52609_G  58582_003121 2021-10-12 02:42:29.100   \n",
       "4721617      58582_003121_91_52619_G  58582_003121 2021-10-12 02:42:29.100   \n",
       "\n",
       "         step nfl_player_id_1 nfl_player_id_2  contact  x_position_1  \\\n",
       "0           0           37084           37211        0         41.90   \n",
       "1           0           37084           38556        0         41.90   \n",
       "2           0           37084           38567        0         41.90   \n",
       "3           0           37084           38590        0         41.90   \n",
       "4           0           37084           39947        0         41.90   \n",
       "...       ...             ...             ...      ...           ...   \n",
       "4721613    91           52500           52619        0         58.74   \n",
       "4721614    91           52500               G        0         58.74   \n",
       "4721615    91           52609           52619        0         60.32   \n",
       "4721616    91           52609               G        0         60.32   \n",
       "4721617    91           52619               G        0         58.90   \n",
       "\n",
       "         y_position_1  speed_1  ...  x_position_2  y_position_2  speed_2  \\\n",
       "0               20.08     0.54  ...         39.59         17.07     0.53   \n",
       "1               20.08     0.54  ...         41.93         30.61     0.67   \n",
       "2               20.08     0.54  ...         40.37         19.88     0.66   \n",
       "3               20.08     0.54  ...         40.33         25.28     0.52   \n",
       "4               20.08     0.54  ...         40.11         26.73     0.99   \n",
       "...               ...      ...  ...           ...           ...      ...   \n",
       "4721613         40.11     1.34  ...         58.90         22.09     1.32   \n",
       "4721614         40.11     1.34  ...           NaN           NaN      NaN   \n",
       "4721615         25.93     1.38  ...         58.90         22.09     1.32   \n",
       "4721616         25.93     1.38  ...           NaN           NaN      NaN   \n",
       "4721617         22.09     1.32  ...           NaN           NaN      NaN   \n",
       "\n",
       "         distance_2  direction_2  orientation_2  acceleration_2  sa_2  \\\n",
       "0              0.05       134.84          84.73            1.43  1.42   \n",
       "1              0.05       232.50         227.00            1.82  1.61   \n",
       "2              0.07       136.70          88.92            0.90  0.89   \n",
       "3              0.06       141.08         100.37            0.59  0.58   \n",
       "4              0.09       163.38          90.69            1.68  1.64   \n",
       "...             ...          ...            ...             ...   ...   \n",
       "4721613        0.14        74.21          47.63            0.96 -0.44   \n",
       "4721614         NaN          NaN            NaN             NaN   NaN   \n",
       "4721615        0.14        74.21          47.63            0.96 -0.44   \n",
       "4721616         NaN          NaN            NaN             NaN   NaN   \n",
       "4721617         NaN          NaN            NaN             NaN   NaN   \n",
       "\n",
       "          distance  G_flug  \n",
       "0         3.794232   False  \n",
       "1        10.530043   False  \n",
       "2         1.543017   False  \n",
       "3         5.431841   False  \n",
       "4         6.886697   False  \n",
       "...            ...     ...  \n",
       "4721613  18.020710   False  \n",
       "4721614        NaN    True  \n",
       "4721615   4.094142   False  \n",
       "4721616        NaN    True  \n",
       "4721617        NaN    True  \n",
       "\n",
       "[4721618 rows x 25 columns]"
      ]
     },
     "metadata": {},
     "output_type": "display_data"
    }
   ],
   "source": [
    "# ==============================\n",
    "# feature engineering\n",
    "# ==============================\n",
    "def create_features(df, tr_tracking, merge_col=\"step\", use_cols=[\"x_position\", \"y_position\"]):\n",
    "    output_cols = []\n",
    "    df_combo = (\n",
    "        df.astype({\"nfl_player_id_1\": \"str\"})\n",
    "        .merge(\n",
    "            tr_tracking.astype({\"nfl_player_id\": \"str\"})[\n",
    "                [\"game_play\", merge_col, \"nfl_player_id\",] + use_cols\n",
    "            ],\n",
    "            left_on=[\"game_play\", merge_col, \"nfl_player_id_1\"],\n",
    "            right_on=[\"game_play\", merge_col, \"nfl_player_id\"],\n",
    "            how=\"left\",\n",
    "        )\n",
    "        .rename(columns={c: c+\"_1\" for c in use_cols})\n",
    "        .drop(\"nfl_player_id\", axis=1)\n",
    "        .merge(\n",
    "            tr_tracking.astype({\"nfl_player_id\": \"str\"})[\n",
    "                [\"game_play\", merge_col, \"nfl_player_id\"] + use_cols\n",
    "            ],\n",
    "            left_on=[\"game_play\", merge_col, \"nfl_player_id_2\"],\n",
    "            right_on=[\"game_play\", merge_col, \"nfl_player_id\"],\n",
    "            how=\"left\",\n",
    "        )\n",
    "        .drop(\"nfl_player_id\", axis=1)\n",
    "        .rename(columns={c: c+\"_2\" for c in use_cols})\n",
    "        .sort_values([\"game_play\", merge_col, \"nfl_player_id_1\", \"nfl_player_id_2\"])\n",
    "        .reset_index(drop=True)\n",
    "    )\n",
    "    output_cols += [c+\"_1\" for c in use_cols]\n",
    "    output_cols += [c+\"_2\" for c in use_cols]\n",
    "    \n",
    "    if (\"x_position\" in use_cols) & (\"y_position\" in use_cols):\n",
    "        index = df_combo['x_position_2'].notnull()\n",
    "        if torch.cuda.is_available():\n",
    "            index = index.to_array()\n",
    "        distance_arr = np.full(len(index), np.nan)\n",
    "        tmp_distance_arr = np.sqrt(\n",
    "            np.square(df_combo.loc[index, \"x_position_1\"] - df_combo.loc[index, \"x_position_2\"])\n",
    "            + np.square(df_combo.loc[index, \"y_position_1\"]- df_combo.loc[index, \"y_position_2\"])\n",
    "        )\n",
    "        if torch.cuda.is_available():\n",
    "            tmp_distance_arr = tmp_distance_arr.to_array()\n",
    "        distance_arr[index] = tmp_distance_arr\n",
    "        df_combo['distance'] = distance_arr\n",
    "        output_cols += [\"distance\"]\n",
    "        \n",
    "    df_combo['G_flug'] = (df_combo['nfl_player_id_2']==\"G\")\n",
    "    output_cols += [\"G_flug\"]\n",
    "    return df_combo, output_cols\n",
    "\n",
    "\n",
    "use_cols = [\n",
    "    'x_position', 'y_position', 'speed', 'distance',\n",
    "    'direction', 'orientation', 'acceleration', 'sa'\n",
    "]\n",
    "train, feature_cols = create_features(train, tr_tracking, use_cols=use_cols)\n",
    "test, feature_cols = create_features(test, te_tracking, use_cols=use_cols)\n",
    "if torch.cuda.is_available():\n",
    "    train = train.to_pandas()\n",
    "    test = test.to_pandas()\n",
    "\n",
    "display(train)\n"
   ]
  },
  {
   "cell_type": "code",
   "execution_count": 8,
   "id": "94db8cb4",
   "metadata": {
    "execution": {
     "iopub.execute_input": "2024-07-15T08:20:21.674052Z",
     "iopub.status.busy": "2024-07-15T08:20:21.673731Z",
     "iopub.status.idle": "2024-07-15T08:20:21.680238Z",
     "shell.execute_reply": "2024-07-15T08:20:21.679338Z"
    },
    "papermill": {
     "duration": 0.016127,
     "end_time": "2024-07-15T08:20:21.682398",
     "exception": false,
     "start_time": "2024-07-15T08:20:21.666271",
     "status": "completed"
    },
    "tags": []
   },
   "outputs": [
    {
     "data": {
      "text/plain": [
       "['x_position_1',\n",
       " 'y_position_1',\n",
       " 'speed_1',\n",
       " 'distance_1',\n",
       " 'direction_1',\n",
       " 'orientation_1',\n",
       " 'acceleration_1',\n",
       " 'sa_1',\n",
       " 'x_position_2',\n",
       " 'y_position_2',\n",
       " 'speed_2',\n",
       " 'distance_2',\n",
       " 'direction_2',\n",
       " 'orientation_2',\n",
       " 'acceleration_2',\n",
       " 'sa_2',\n",
       " 'distance',\n",
       " 'G_flug']"
      ]
     },
     "execution_count": 8,
     "metadata": {},
     "output_type": "execute_result"
    }
   ],
   "source": [
    "feature_cols"
   ]
  },
  {
   "cell_type": "code",
   "execution_count": 9,
   "id": "8919d613",
   "metadata": {
    "execution": {
     "iopub.execute_input": "2024-07-15T08:20:21.696642Z",
     "iopub.status.busy": "2024-07-15T08:20:21.696318Z",
     "iopub.status.idle": "2024-07-15T08:20:33.789570Z",
     "shell.execute_reply": "2024-07-15T08:20:33.788667Z"
    },
    "papermill": {
     "duration": 12.103355,
     "end_time": "2024-07-15T08:20:33.792226",
     "exception": false,
     "start_time": "2024-07-15T08:20:21.688871",
     "status": "completed"
    },
    "tags": []
   },
   "outputs": [],
   "source": [
    "# ==============================\n",
    "# training & inference\n",
    "# ==============================\n",
    "train_X = train[feature_cols]\n",
    "test_X = test[feature_cols]\n",
    "train_y = train['contact']\n",
    "cfg.folds = get_groupkfold(train, 'contact', 'game_play', cfg.num_fold)\n",
    "cfg.folds.to_csv(os.path.join(cfg.EXP_PREDS, 'folds.csv'), index=False) # save it to folds.csv \n"
   ]
  },
  {
   "cell_type": "code",
   "execution_count": 10,
   "id": "b14268a7",
   "metadata": {
    "execution": {
     "iopub.execute_input": "2024-07-15T08:20:33.806842Z",
     "iopub.status.busy": "2024-07-15T08:20:33.806506Z",
     "iopub.status.idle": "2024-07-15T08:20:33.851779Z",
     "shell.execute_reply": "2024-07-15T08:20:33.850847Z"
    },
    "papermill": {
     "duration": 0.054997,
     "end_time": "2024-07-15T08:20:33.853917",
     "exception": false,
     "start_time": "2024-07-15T08:20:33.798920",
     "status": "completed"
    },
    "tags": []
   },
   "outputs": [
    {
     "data": {
      "text/plain": [
       "1    945714\n",
       "0    944328\n",
       "2    944196\n",
       "4    943690\n",
       "3    943690\n",
       "dtype: int64"
      ]
     },
     "execution_count": 10,
     "metadata": {},
     "output_type": "execute_result"
    }
   ],
   "source": [
    "cfg.folds.value_counts()"
   ]
  },
  {
   "cell_type": "code",
   "execution_count": 11,
   "id": "8d9f8917",
   "metadata": {
    "execution": {
     "iopub.execute_input": "2024-07-15T08:20:33.867870Z",
     "iopub.status.busy": "2024-07-15T08:20:33.867528Z",
     "iopub.status.idle": "2024-07-15T08:24:14.599719Z",
     "shell.execute_reply": "2024-07-15T08:24:14.598677Z"
    },
    "papermill": {
     "duration": 220.741701,
     "end_time": "2024-07-15T08:24:14.601968",
     "exception": false,
     "start_time": "2024-07-15T08:20:33.860267",
     "status": "completed"
    },
    "tags": []
   },
   "outputs": [
    {
     "data": {
      "text/plain": [
       "0    931283\n",
       "1     13045\n",
       "Name: contact, dtype: int64"
      ]
     },
     "metadata": {},
     "output_type": "display_data"
    },
    {
     "name": "stdout",
     "output_type": "stream",
     "text": [
      "[0]\ttrain-auc:0.98312\teval-auc:0.98086\n",
      "[100]\ttrain-auc:0.98895\teval-auc:0.98633\n",
      "[200]\ttrain-auc:0.99035\teval-auc:0.98717\n",
      "[300]\ttrain-auc:0.99117\teval-auc:0.98757\n",
      "[400]\ttrain-auc:0.99175\teval-auc:0.98785\n",
      "[500]\ttrain-auc:0.99260\teval-auc:0.98817\n",
      "[600]\ttrain-auc:0.99330\teval-auc:0.98833\n",
      "[700]\ttrain-auc:0.99382\teval-auc:0.98844\n",
      "[800]\ttrain-auc:0.99425\teval-auc:0.98854\n",
      "[900]\ttrain-auc:0.99461\teval-auc:0.98856\n",
      "[1000]\ttrain-auc:0.99495\teval-auc:0.98854\n",
      "[1041]\ttrain-auc:0.99508\teval-auc:0.98852\n",
      "Performance of the prediction: 0.98852\n",
      "\n"
     ]
    },
    {
     "data": {
      "text/plain": [
       "0    933738\n",
       "1     11976\n",
       "Name: contact, dtype: int64"
      ]
     },
     "metadata": {},
     "output_type": "display_data"
    },
    {
     "name": "stdout",
     "output_type": "stream",
     "text": [
      "[0]\ttrain-auc:0.98265\teval-auc:0.98327\n",
      "[100]\ttrain-auc:0.98796\teval-auc:0.98897\n",
      "[200]\ttrain-auc:0.98967\teval-auc:0.98981\n",
      "[300]\ttrain-auc:0.99052\teval-auc:0.99032\n",
      "[400]\ttrain-auc:0.99116\teval-auc:0.99037\n",
      "[500]\ttrain-auc:0.99202\teval-auc:0.99050\n",
      "[595]\ttrain-auc:0.99263\teval-auc:0.99049\n",
      "Performance of the prediction: 0.99049\n",
      "\n"
     ]
    },
    {
     "data": {
      "text/plain": [
       "0    930355\n",
       "1     13841\n",
       "Name: contact, dtype: int64"
      ]
     },
     "metadata": {},
     "output_type": "display_data"
    },
    {
     "name": "stdout",
     "output_type": "stream",
     "text": [
      "[0]\ttrain-auc:0.98339\teval-auc:0.98260\n",
      "[100]\ttrain-auc:0.98886\teval-auc:0.98665\n",
      "[200]\ttrain-auc:0.99045\teval-auc:0.98721\n",
      "[300]\ttrain-auc:0.99115\teval-auc:0.98738\n",
      "[400]\ttrain-auc:0.99187\teval-auc:0.98769\n",
      "[500]\ttrain-auc:0.99273\teval-auc:0.98792\n",
      "[600]\ttrain-auc:0.99334\teval-auc:0.98802\n",
      "[700]\ttrain-auc:0.99387\teval-auc:0.98809\n",
      "[800]\ttrain-auc:0.99435\teval-auc:0.98807\n",
      "[838]\ttrain-auc:0.99446\teval-auc:0.98807\n",
      "Performance of the prediction: 0.98807\n",
      "\n"
     ]
    },
    {
     "data": {
      "text/plain": [
       "0    932335\n",
       "1     11355\n",
       "Name: contact, dtype: int64"
      ]
     },
     "metadata": {},
     "output_type": "display_data"
    },
    {
     "name": "stdout",
     "output_type": "stream",
     "text": [
      "[0]\ttrain-auc:0.98183\teval-auc:0.98722\n",
      "[100]\ttrain-auc:0.98789\teval-auc:0.99093\n",
      "[200]\ttrain-auc:0.98959\teval-auc:0.99133\n",
      "[300]\ttrain-auc:0.99044\teval-auc:0.99150\n",
      "[400]\ttrain-auc:0.99111\teval-auc:0.99164\n",
      "[500]\ttrain-auc:0.99185\teval-auc:0.99167\n",
      "[600]\ttrain-auc:0.99251\teval-auc:0.99177\n",
      "[700]\ttrain-auc:0.99299\teval-auc:0.99179\n",
      "[800]\ttrain-auc:0.99342\teval-auc:0.99177\n",
      "[856]\ttrain-auc:0.99367\teval-auc:0.99173\n",
      "Performance of the prediction: 0.99173\n",
      "\n"
     ]
    },
    {
     "data": {
      "text/plain": [
       "0    929385\n",
       "1     14305\n",
       "Name: contact, dtype: int64"
      ]
     },
     "metadata": {},
     "output_type": "display_data"
    },
    {
     "name": "stdout",
     "output_type": "stream",
     "text": [
      "[0]\ttrain-auc:0.98402\teval-auc:0.97895\n",
      "[100]\ttrain-auc:0.98908\teval-auc:0.98480\n",
      "[200]\ttrain-auc:0.99042\teval-auc:0.98615\n",
      "[300]\ttrain-auc:0.99136\teval-auc:0.98692\n",
      "[400]\ttrain-auc:0.99198\teval-auc:0.98699\n",
      "[500]\ttrain-auc:0.99280\teval-auc:0.98730\n",
      "[600]\ttrain-auc:0.99335\teval-auc:0.98715\n",
      "[630]\ttrain-auc:0.99349\teval-auc:0.98716\n",
      "Performance of the prediction: 0.98718\n",
      "\n",
      "All Performance of the prediction: 0.98917\n"
     ]
    }
   ],
   "source": [
    "\n",
    "oof_pred = fit_xgboost(cfg, train_X, train_y, cfg.xgb_params, add_suffix=\"_xgb_1st\")\n",
    "sub_pred = pred_xgboost(test_X, cfg.EXP_MODEL, add_suffix=\"_xgb_1st\")"
   ]
  },
  {
   "cell_type": "code",
   "execution_count": 12,
   "id": "16e416e9",
   "metadata": {
    "execution": {
     "iopub.execute_input": "2024-07-15T08:24:14.624707Z",
     "iopub.status.busy": "2024-07-15T08:24:14.624345Z",
     "iopub.status.idle": "2024-07-15T08:24:14.630938Z",
     "shell.execute_reply": "2024-07-15T08:24:14.629935Z"
    },
    "papermill": {
     "duration": 0.020119,
     "end_time": "2024-07-15T08:24:14.632984",
     "exception": false,
     "start_time": "2024-07-15T08:24:14.612865",
     "status": "completed"
    },
    "tags": []
   },
   "outputs": [
    {
     "data": {
      "text/plain": [
       "(4721618,)"
      ]
     },
     "execution_count": 12,
     "metadata": {},
     "output_type": "execute_result"
    }
   ],
   "source": [
    "oof_pred.shape"
   ]
  },
  {
   "cell_type": "code",
   "execution_count": 13,
   "id": "00d0b7a0",
   "metadata": {
    "execution": {
     "iopub.execute_input": "2024-07-15T08:24:14.655330Z",
     "iopub.status.busy": "2024-07-15T08:24:14.655013Z",
     "iopub.status.idle": "2024-07-15T08:25:12.278080Z",
     "shell.execute_reply": "2024-07-15T08:25:12.277132Z"
    },
    "papermill": {
     "duration": 57.6458,
     "end_time": "2024-07-15T08:25:12.289430",
     "exception": false,
     "start_time": "2024-07-15T08:24:14.643630",
     "status": "completed"
    },
    "tags": []
   },
   "outputs": [
    {
     "name": "stdout",
     "output_type": "stream",
     "text": [
      "score: 0.58108\n",
      "threshold 0.2877\n"
     ]
    },
    {
     "data": {
      "text/html": [
       "<div>\n",
       "<style scoped>\n",
       "    .dataframe tbody tr th:only-of-type {\n",
       "        vertical-align: middle;\n",
       "    }\n",
       "\n",
       "    .dataframe tbody tr th {\n",
       "        vertical-align: top;\n",
       "    }\n",
       "\n",
       "    .dataframe thead th {\n",
       "        text-align: right;\n",
       "    }\n",
       "</style>\n",
       "<table border=\"1\" class=\"dataframe\">\n",
       "  <thead>\n",
       "    <tr style=\"text-align: right;\">\n",
       "      <th></th>\n",
       "      <th>contact_id</th>\n",
       "      <th>contact</th>\n",
       "    </tr>\n",
       "  </thead>\n",
       "  <tbody>\n",
       "    <tr>\n",
       "      <th>0</th>\n",
       "      <td>58168_003392_0_37084_37211</td>\n",
       "      <td>0</td>\n",
       "    </tr>\n",
       "    <tr>\n",
       "      <th>1</th>\n",
       "      <td>58168_003392_0_37084_38556</td>\n",
       "      <td>0</td>\n",
       "    </tr>\n",
       "    <tr>\n",
       "      <th>2</th>\n",
       "      <td>58168_003392_0_37084_38567</td>\n",
       "      <td>0</td>\n",
       "    </tr>\n",
       "    <tr>\n",
       "      <th>3</th>\n",
       "      <td>58168_003392_0_37084_38590</td>\n",
       "      <td>0</td>\n",
       "    </tr>\n",
       "    <tr>\n",
       "      <th>4</th>\n",
       "      <td>58168_003392_0_37084_39947</td>\n",
       "      <td>0</td>\n",
       "    </tr>\n",
       "  </tbody>\n",
       "</table>\n",
       "</div>"
      ],
      "text/plain": [
       "                   contact_id  contact\n",
       "0  58168_003392_0_37084_37211        0\n",
       "1  58168_003392_0_37084_38556        0\n",
       "2  58168_003392_0_37084_38567        0\n",
       "3  58168_003392_0_37084_38590        0\n",
       "4  58168_003392_0_37084_39947        0"
      ]
     },
     "metadata": {},
     "output_type": "display_data"
    }
   ],
   "source": [
    "# ==============================\n",
    "# optimize\n",
    "# ==============================\n",
    "def func(x_list):\n",
    "    score = matthews_corrcoef(train['contact'], oof_pred>x_list[0])\n",
    "    return -score\n",
    "\n",
    "x0 = [0.5]\n",
    "result = minimize(func, x0,  method=\"nelder-mead\") #find the bext x0 \n",
    "cfg.threshold = result.x[0]\n",
    "print(\"score:\", round(matthews_corrcoef(train['contact'], oof_pred>cfg.threshold), 5))\n",
    "print(\"threshold\", round(cfg.threshold, 5))\n",
    "\n",
    "test = add_contact_id(test)\n",
    "test['contact'] = (sub_pred > cfg.threshold).astype(int)\n",
    "test[['contact_id', 'contact']].to_csv('submission.csv', index=False)\n",
    "display(test[['contact_id', 'contact']].head())"
   ]
  }
 ],
 "metadata": {
  "kaggle": {
   "accelerator": "nvidiaTeslaT4",
   "dataSources": [
    {
     "databundleVersionId": 4725531,
     "sourceId": 40277,
     "sourceType": "competition"
    }
   ],
   "dockerImageVersionId": 30302,
   "isGpuEnabled": true,
   "isInternetEnabled": false,
   "language": "python",
   "sourceType": "notebook"
  },
  "kernelspec": {
   "display_name": "Python 3",
   "language": "python",
   "name": "python3"
  },
  "language_info": {
   "codemirror_mode": {
    "name": "ipython",
    "version": 3
   },
   "file_extension": ".py",
   "mimetype": "text/x-python",
   "name": "python",
   "nbconvert_exporter": "python",
   "pygments_lexer": "ipython3",
   "version": "3.7.12"
  },
  "papermill": {
   "default_parameters": {},
   "duration": 328.505199,
   "end_time": "2024-07-15T08:25:14.224757",
   "environment_variables": {},
   "exception": null,
   "input_path": "__notebook__.ipynb",
   "output_path": "__notebook__.ipynb",
   "parameters": {},
   "start_time": "2024-07-15T08:19:45.719558",
   "version": "2.3.4"
  }
 },
 "nbformat": 4,
 "nbformat_minor": 5
}
