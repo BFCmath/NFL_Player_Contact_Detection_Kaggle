{
 "cells": [
  {
   "cell_type": "markdown",
   "metadata": {
    "vscode": {
     "languageId": "plaintext"
    }
   },
   "source": [
    "*Note*: this is just a replicate, I just wanted to learn new libs and a way to work with video datasets "
   ]
  },
  {
   "cell_type": "markdown",
   "metadata": {},
   "source": [
    "## Visualize_data.ipynb "
   ]
  },
  {
   "cell_type": "markdown",
   "metadata": {
    "vscode": {
     "languageId": "plaintext"
    }
   },
   "source": [
    "**Purpose**: Visual the data from file csv."
   ]
  },
  {
   "cell_type": "markdown",
   "metadata": {},
   "source": [
    "1. Reading file csv\n",
    "2. Importing videos with boundary boxes for the helmets of players \n",
    "3. Draw the field and positions of player based on matches and frames\n",
    "4. Join the csv files \n",
    "5. Detect contact, highlight contact (players and ground) and draw the contact line\n"
   ]
  },
  {
   "cell_type": "markdown",
   "metadata": {},
   "source": [
    "## Resnet_2.5D_CNN_inference.ipynb"
   ]
  },
  {
   "cell_type": "markdown",
   "metadata": {},
   "source": [
    "1. Set seed and config\n",
    "2. Join the csv files\n",
    "3. Calculate the distance and filtered \n",
    "4. Create AugData pipeline \n",
    "5. Create Mydata to extract the img of contacted players and the feature\n",
    "6. Create MyModel include backbone is Resnet50 for img and mlp is simple DNN for features \n",
    "7. *Skipping* the trainning step (appox 1+ hour/epoch)\n",
    "8. Pass forward the test \n",
    "\n",
    "Note: to train, just simply revise the old note about Pytorch. "
   ]
  },
  {
   "cell_type": "markdown",
   "metadata": {
    "vscode": {
     "languageId": "plaintext"
    }
   },
   "source": [
    "## Simple XGB Baseline\n",
    "1. using cudf \n",
    "2. using ForestInference\n",
    "3. using xgb \n",
    "4. using GroupKFold, a good way to devide the dataset having many overlap values \n",
    "5. simply merge pandas DF and using xgb\n"
   ]
  },
  {
   "cell_type": "markdown",
   "metadata": {},
   "source": [
    "## helmet_track_step_percentage\n",
    "+ explain filtered the distance is important (based on the useless auc score from simple xgb baseline)\n",
    "+ a new approach for reduce the step \n",
    "+ many merging technique\n",
    "+ simply using xgb"
   ]
  },
  {
   "cell_type": "markdown",
   "metadata": {
    "vscode": {
     "languageId": "plaintext"
    }
   },
   "source": [
    "## Training technique\n",
    "1. Warmup:\n",
    "+ Gradually increases the learning rate from a very small value to the initial learning rate.\n",
    "+ Helps stabilize early training, especially for deep or complex models.\n",
    "2. Cosine Learning Rate Scheduler (CosineLRS):\n",
    "+ Smoothly decreases the learning rate over time, following a cosine curve.\n",
    "+ Provides a smooth decay, which can lead to better convergence than step-based decay.\n",
    "+ Can be easily combined with warm-up and annealing cycles.\n",
    "+ ```lr = lr_min + 0.5 * (lr_max - lr_min) * (1 + cos(pi * current_step / total_steps))```\n",
    "3. Gradient Clipping\n",
    "+ Prevents the exploding gradient problem by limiting the norm of the gradient.\n",
    "+ Stabilizes training, especially for RNNs and very deep networks.\n",
    "+ ```torch.nn.utils.clip_grad_norm_(model.parameters(), max_norm)```"
   ]
  }
 ],
 "metadata": {
  "kernelspec": {
   "display_name": "base",
   "language": "python",
   "name": "python3"
  },
  "language_info": {
   "name": "python",
   "version": "3.11.9"
  }
 },
 "nbformat": 4,
 "nbformat_minor": 2
}
