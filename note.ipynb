{
 "cells": [
  {
   "cell_type": "markdown",
   "metadata": {
    "vscode": {
     "languageId": "plaintext"
    }
   },
   "source": [
    "*Note*: this is just a replicate, I just wanted to learn new libs and a way to work with video problems "
   ]
  },
  {
   "cell_type": "markdown",
   "metadata": {},
   "source": [
    "## Visualize_data.ipynb "
   ]
  },
  {
   "cell_type": "markdown",
   "metadata": {
    "vscode": {
     "languageId": "plaintext"
    }
   },
   "source": [
    "**Purpose**: Visual the data from file csv."
   ]
  },
  {
   "cell_type": "markdown",
   "metadata": {},
   "source": [
    "1. Reading file csv\n",
    "2. Importing videos with boundary boxes for the helmets of players \n",
    "3. Draw the field and positions of player based on matches and frames\n",
    "4. Join the csv files \n",
    "5. Detect contact, highlight contact (players and ground) and draw the contact line\n"
   ]
  },
  {
   "cell_type": "markdown",
   "metadata": {},
   "source": [
    "Resnet_2.5D_CNN_inference.ipynb"
   ]
  },
  {
   "cell_type": "markdown",
   "metadata": {},
   "source": [
    "1. Set seed and config\n",
    "2. Join the csv files\n",
    "3. Calculate the distance and filtered \n",
    "4. Create AugData pipeline \n",
    "5. Create Mydata to extract the img of contacted players and the feature\n",
    "6. Create MyModel include backbone is Resnet50 for img and mlp is simple DNN for features \n",
    "7. *Skipping* the trainning step (appox 1+ hour/epoch)\n",
    "8. Pass forward the test \n",
    "\n",
    "Note: to train, just simply revise the old note about Pytorch. "
   ]
  }
 ],
 "metadata": {
  "kernelspec": {
   "display_name": "base",
   "language": "python",
   "name": "python3"
  },
  "language_info": {
   "name": "python",
   "version": "3.11.9"
  }
 },
 "nbformat": 4,
 "nbformat_minor": 2
}
